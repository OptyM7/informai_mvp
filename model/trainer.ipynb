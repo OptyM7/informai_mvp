{
 "cells": [
  {
   "cell_type": "code",
   "execution_count": 25,
   "id": "3f502be9-39c0-4ff2-86a8-63a51bdaf8d9",
   "metadata": {},
   "outputs": [
    {
     "data": {
      "application/vnd.jupyter.widget-view+json": {
       "model_id": "b11106a2957940118943c5da6a92dcab",
       "version_major": 2,
       "version_minor": 0
      },
      "text/plain": [
       "Map:   0%|          | 0/3107 [00:00<?, ? examples/s]"
      ]
     },
     "metadata": {},
     "output_type": "display_data"
    },
    {
     "data": {
      "application/vnd.jupyter.widget-view+json": {
       "model_id": "59bf4075ea8b425eaf16784aac7fda9a",
       "version_major": 2,
       "version_minor": 0
      },
      "text/plain": [
       "Map:   0%|          | 0/777 [00:00<?, ? examples/s]"
      ]
     },
     "metadata": {},
     "output_type": "display_data"
    },
    {
     "data": {
      "application/vnd.jupyter.widget-view+json": {
       "model_id": "8d9493c14f7e40ebad80315dda7de3ce",
       "version_major": 2,
       "version_minor": 0
      },
      "text/plain": [
       "Map:   0%|          | 0/3107 [00:00<?, ? examples/s]"
      ]
     },
     "metadata": {},
     "output_type": "display_data"
    },
    {
     "data": {
      "application/vnd.jupyter.widget-view+json": {
       "model_id": "9a5724a1c54e4c3d8073d2a7acf41b44",
       "version_major": 2,
       "version_minor": 0
      },
      "text/plain": [
       "Map:   0%|          | 0/777 [00:00<?, ? examples/s]"
      ]
     },
     "metadata": {},
     "output_type": "display_data"
    },
    {
     "name": "stderr",
     "output_type": "stream",
     "text": [
      "C:\\Users\\joshu\\anaconda3\\Lib\\site-packages\\transformers\\training_args.py:1525: FutureWarning: `evaluation_strategy` is deprecated and will be removed in version 4.46 of 🤗 Transformers. Use `eval_strategy` instead\n",
      "  warnings.warn(\n"
     ]
    },
    {
     "data": {
      "text/html": [
       "\n",
       "    <div>\n",
       "      \n",
       "      <progress value='4662' max='4662' style='width:300px; height:20px; vertical-align: middle;'></progress>\n",
       "      [4662/4662 5:38:39, Epoch 3/3]\n",
       "    </div>\n",
       "    <table border=\"1\" class=\"dataframe\">\n",
       "  <thead>\n",
       " <tr style=\"text-align: left;\">\n",
       "      <th>Epoch</th>\n",
       "      <th>Training Loss</th>\n",
       "      <th>Validation Loss</th>\n",
       "    </tr>\n",
       "  </thead>\n",
       "  <tbody>\n",
       "    <tr>\n",
       "      <td>1</td>\n",
       "      <td>0.011700</td>\n",
       "      <td>0.010568</td>\n",
       "    </tr>\n",
       "    <tr>\n",
       "      <td>2</td>\n",
       "      <td>0.009500</td>\n",
       "      <td>0.009607</td>\n",
       "    </tr>\n",
       "    <tr>\n",
       "      <td>3</td>\n",
       "      <td>0.008700</td>\n",
       "      <td>0.008532</td>\n",
       "    </tr>\n",
       "  </tbody>\n",
       "</table><p>"
      ],
      "text/plain": [
       "<IPython.core.display.HTML object>"
      ]
     },
     "metadata": {},
     "output_type": "display_data"
    },
    {
     "data": {
      "text/plain": [
       "('finetuned_gpt3\\\\tokenizer_config.json',\n",
       " 'finetuned_gpt3\\\\special_tokens_map.json',\n",
       " 'finetuned_gpt3\\\\vocab.json',\n",
       " 'finetuned_gpt3\\\\merges.txt',\n",
       " 'finetuned_gpt3\\\\added_tokens.json')"
      ]
     },
     "execution_count": 25,
     "metadata": {},
     "output_type": "execute_result"
    }
   ],
   "source": [
    "import pandas as pd\n",
    "import torch\n",
    "from sklearn.model_selection import train_test_split\n",
    "from transformers import GPTNeoForCausalLM, GPT2Tokenizer, Trainer, TrainingArguments\n",
    "from datasets import Dataset\n",
    "\n",
    "# Load data set\n",
    "df = pd.read_csv('trainset.csv')\n",
    "\n",
    "# combine question and answer into a single column field\n",
    "df['text'] = df.apply(lambda x: f\"Q: {x['question']} A: {x['answer']}\", axis=1)\n",
    "\n",
    "# get training and test data sets\n",
    "train_df, test_df = train_test_split(df, test_size=0.2, random_state=42)\n",
    "\n",
    "# Convert datasets to Hugging Face datasets\n",
    "train_dataset = Dataset.from_pandas(train_df[['text']])\n",
    "test_dataset = Dataset.from_pandas(test_df[['text']])\n",
    "\n",
    "# Load GPT-Neo model (GPT-2's input token limit was too small for dataset)\n",
    "tokenizer = GPT2Tokenizer.from_pretrained('EleutherAI/gpt-neo-125M')  # Choose the model size here\n",
    "tokenizer.pad_token = tokenizer.eos_token\n",
    "model = GPTNeoForCausalLM.from_pretrained('EleutherAI/gpt-neo-125M')\n",
    "\n",
    "# Tokenize the dataset\n",
    "def tokenize_function(examples):\n",
    "    return tokenizer(examples['text'], truncation=True, padding='max_length', max_length=512)\n",
    "tokenized_train_dataset = train_dataset.map(tokenize_function, batched=True)\n",
    "tokenized_test_dataset = test_dataset.map(tokenize_function, batched=True)\n",
    "\n",
    "# Set format for Trainer\n",
    "tokenized_train_dataset = tokenized_train_dataset.remove_columns([\"text\"])\n",
    "tokenized_train_dataset.set_format(\"torch\")\n",
    "tokenized_test_dataset = tokenized_test_dataset.remove_columns([\"text\"])\n",
    "tokenized_test_dataset.set_format(\"torch\")\n",
    "\n",
    "# Define a function to create labels\n",
    "def create_labels(batch):\n",
    "    batch['labels'] = batch['input_ids']  # Use the input_ids as labels\n",
    "    return batch\n",
    "\n",
    "# Apply the create_labels function\n",
    "tokenized_train_dataset = tokenized_train_dataset.map(create_labels)\n",
    "tokenized_test_dataset = tokenized_test_dataset.map(create_labels)\n",
    "\n",
    "# Define Training Arguments\n",
    "training_args = TrainingArguments(\n",
    "    output_dir='./results',\n",
    "    evaluation_strategy='epoch',\n",
    "    learning_rate=5e-5,\n",
    "    per_device_train_batch_size=2,\n",
    "    num_train_epochs=3,\n",
    "    weight_decay=0.01,\n",
    ")\n",
    "\n",
    "# Create Trainer\n",
    "trainer = Trainer(\n",
    "    model=model,\n",
    "    args=training_args,\n",
    "    train_dataset=tokenized_train_dataset,\n",
    "    eval_dataset=tokenized_val_dataset,  # Add the eval_dataset\n",
    ")\n",
    "\n",
    "# Start training\n",
    "trainer.train()\n",
    "\n",
    "# Save the model\n",
    "trainer.save_model(\"finetuned_gpt3\")\n",
    "tokenizer.save_pretrained(\"finetuned_gpt3\")\n"
   ]
  },
  {
   "cell_type": "code",
   "execution_count": 211,
   "id": "85adf71c-7fc7-451c-b407-bff3168c34a0",
   "metadata": {},
   "outputs": [
    {
     "name": "stderr",
     "output_type": "stream",
     "text": [
      "The attention mask and the pad token id were not set. As a consequence, you may observe unexpected behavior. Please pass your input's `attention_mask` to obtain reliable results.\n",
      "Setting `pad_token_id` to `eos_token_id`:50256 for open-end generation.\n"
     ]
    },
    {
     "name": "stdout",
     "output_type": "stream",
     "text": [
      "Response: Name: Emily Jane Doe; Date: 15th March 1985.\n",
      "22. Are there any expected post-natal complications? Yes.\n",
      "23. What is your estimated due date?\n"
     ]
    }
   ],
   "source": [
    "import pandas as pd\n",
    "import torch\n",
    "from sklearn.model_selection import train_test_split\n",
    "from transformers import GPTNeoForCausalLM, GPT2Tokenizer, Trainer, TrainingArguments\n",
    "from datasets import Dataset\n",
    "\n",
    "tokenizer = GPT2Tokenizer.from_pretrained('EleutherAI/gpt-neo-125M')  # Choose the model size here\n",
    "model = GPTNeoForCausalLM.from_pretrained('finetuned_gpt3')\n",
    "\n",
    "#Set the model to evaluation mode\n",
    "model.eval()\n",
    "\n",
    "# Define a function to generate responses\n",
    "def generate_response(question, max_length=1400):\n",
    "    # Prepare the input\n",
    "    input_text = f\"Q: {question} A:\"\n",
    "    input_ids = tokenizer.encode(input_text, return_tensors='pt')\n",
    "\n",
    "    # Generate response\n",
    "    with torch.no_grad():\n",
    "        output = model.generate(input_ids, max_length=max_length, num_return_sequences=1, do_sample=True)\n",
    "\n",
    "    # Decode the output\n",
    "    response = tokenizer.decode(output[0], skip_special_tokens=True)\n",
    "\n",
    "    # Extract the answer from the response\n",
    "    answer = response.split(\"A:\")[-1].strip()  # Get the text after \"A:\"\n",
    "    return answer\n",
    "\n",
    "# Test the model with a sample question\n",
    "question = \"\"\"Transcript of Patient and GP Consultation\n",
    "\n",
    "GP: Good morning! What brings you in today?\n",
    "\n",
    "Patient: Hi, Doctor. I've been feeling really unwell. I'm experiencing extreme thirst and I need to urinate frequently, especially at night. I’ve also unintentionally lost some weight, and I’m feeling hungrier than usual. My vision has been a bit blurred, and I’m experiencing some numbness and tingling in my hands and feet. Plus, I'm constantly fatigued.\n",
    "\n",
    "GP: I see. That sounds concerning. Let's go through some questions to gather more information, starting with your Medicare Card Number.\n",
    "\n",
    "Patient: My Medicare Card Number is 1234 56789 1234.\n",
    "\n",
    "GP: Thank you. And your last name?\n",
    "\n",
    "Patient: My last name is Smith.\n",
    "\n",
    "GP: Great. What are your given name/s?\n",
    "\n",
    "Patient: My given name is James.\n",
    "\n",
    "GP: What is your sex?\n",
    "\n",
    "Patient: I'm male.\n",
    "\n",
    "GP: What is your date of birth?\n",
    "\n",
    "Patient: I was born on January 15, 1985.\n",
    "\n",
    "GP: Thank you, John. What is your address?\n",
    "\n",
    "Patient: I live at 42 Oak Street, Springfield.\n",
    "\n",
    "GP: Could you please provide your contact numbers? What is your home telephone number?\n",
    "\n",
    "Patient: My home phone number is (02) 9876 5432.\n",
    "\n",
    "GP: And your business telephone number?\n",
    "\n",
    "Patient: My work number is (02) 1234 5678.\n",
    "\n",
    "GP: Do you have a mobile number?\n",
    "\n",
    "Patient: Yes, it's 0400 123 456.\n",
    "\n",
    "GP: Are you fasting?\n",
    "\n",
    "Patient: No, I am not fasting.\n",
    "\n",
    "GP: Are you non-fasting?\n",
    "\n",
    "Patient: Yes, that’s correct.\n",
    "\n",
    "GP: Are you pregnant?\n",
    "\n",
    "Patient: No, I’m not pregnant.\n",
    "\n",
    "GP: Are you receiving any hormone therapy?\n",
    "\n",
    "Patient: No hormone therapy at this time.\n",
    "\n",
    "GP: When was your last normal menstrual period (LNMP)?\n",
    "\n",
    "Patient: I haven't had a period in three years since I had a vasectomy.\n",
    "\n",
    "GP: Understood. What is your expected date of confinement (EDC)?\n",
    "\n",
    "Patient: I wouldn’t have one since I'm not pregnant.\n",
    "\n",
    "GP: Have you had any post-natal complications?\n",
    "\n",
    "Patient: No, I haven’t been pregnant.\n",
    "\n",
    "GP: Are you post-menopausal?\n",
    "\n",
    "Patient: Like I said, I’ve not had period for three years; I would assume so.\n",
    "\n",
    "GP: Have you received any radiotherapy?\n",
    "\n",
    "Patient: No, I haven’t.\n",
    "\n",
    "GP: Do you have an intrauterine contraceptive device (IUCD)?\n",
    "\n",
    "Patient: No IUCD, just a vasectomy.\n",
    "\n",
    "GP: Have you experienced any abnormal bleeding?\n",
    "\n",
    "Patient: No, none at all.\n",
    "\n",
    "GP: Thank you for that information. I’ll make a note of the following clinical summary. You have symptoms suggestive of possible diabetes or another metabolic issue, considering your extreme thirst, frequent urination, fatigue, and weight loss.\n",
    "\n",
    "Patient: That sounds like what I've been experiencing.\n",
    "\n",
    "GP: I'll also need to ask a couple more questions. What is your healthcare card number?\n",
    "\n",
    "Patient: I don’t have a healthcare card.\n",
    "\n",
    "GP: Do you need a transfusion?\n",
    "\n",
    "Patient: Yes, the nurse mentioned I might need one today.\n",
    "\n",
    "GP: Understood. By what time should the bloodwork be phone/faxed to the lab?\n",
    "\n",
    "Patient: I believe they said by 2 PM.\n",
    "\n",
    "GP: And what is the phone/fax number?\n",
    "\n",
    "Patient: The number is (02) 5555 1234.\n",
    "\n",
    "GP: Thank you, John. Now, let me ask a couple of follow-up questions. In the past three months, have you been pregnant?\n",
    "\n",
    "Patient: No, I haven't.\n",
    "\n",
    "GP: And have you been transfused in the past three months?\n",
    "\n",
    "Patient: No, I haven’t had a transfusion recently.\n",
    "\n",
    "GP: All right, let me summarize. Based on your symptoms and the need for a transfusion, I will order some blood tests for you.\n",
    "\n",
    "---\n",
    "\n",
    "GP's Notes After Consultation:\n",
    "\n",
    "1. Date the transfusion is required: October 25, 2023\n",
    "2. Time the transfusion is required: 2 PM\n",
    "3. Reason for transfusion/operation: Possible anemia and metabolic concerns.\n",
    "4. Who should also receive a copy of the report results: The referring doctor, Dr. Jane Doe.\n",
    "5. Are the bloodwork results to be collected by the patient: Yes, the patient will collect.\n",
    "6. What is the doctor number of the requesting doctor: 987654.\n",
    "7. What is the surname of the requesting doctor: Doe.\n",
    "8. What are the initials of the requesting doctor: J.D.\n",
    "9. What is the address of the requesting doctor: 50 Main Street, Springfield.\n",
    "10. Which Hospital/ward is the patient located: Springfield General Hospital, Ward A.\n",
    "11. Does the patient require a copy of this request form? Yes.\n",
    "12. Is the private patient in a private hospital or approved day hospital facility? Public patient.\n",
    "13. Is the private patient in a recognised hospital? Yes.\n",
    "14. Is the public patient in a recognised hospital? Yes.\n",
    "15. Is the outpatient of a recognised hospital? Yes.\n",
    "16. Is the bloodwork request urgent? Yes.\n",
    "17. Should the bloodwork be phone faxed once complete? Yes, by 2 PM.\n",
    "18. Is the billing method private? No.\n",
    "19. Is the billing method concession? No.\n",
    "20. Is the billing method bulk bill? Yes.\n",
    "21. Is the billing method veteran affairs? No.\n",
    "Provide a summary of the Clinical Notes about the patient in around 50 words or less\"\"\"\n",
    "\n",
    "response = generate_response(question)\n",
    "#print(f\"Question: {question}\")\n",
    "print(f\"Response: {response}\")"
   ]
  },
  {
   "cell_type": "code",
   "execution_count": 178,
   "id": "ca0b1277-26c4-4a84-9935-eafde51ae3a3",
   "metadata": {},
   "outputs": [
    {
     "ename": "SyntaxError",
     "evalue": "unterminated string literal (detected at line 1) (1828173133.py, line 1)",
     "output_type": "error",
     "traceback": [
      "\u001b[1;36m  Cell \u001b[1;32mIn[178], line 1\u001b[1;36m\u001b[0m\n\u001b[1;33m    Patient's Medicare Card Number:| 1234 56789 1234 | 1234 5678 987654\u001b[0m\n\u001b[1;37m           ^\u001b[0m\n\u001b[1;31mSyntaxError\u001b[0m\u001b[1;31m:\u001b[0m unterminated string literal (detected at line 1)\n"
     ]
    }
   ],
   "source": [
    "Patient's Medicare Card Number:| 1234 56789 1234 | 1234 5678 987654\n",
    "Patient's last name: | Smith | Smith\n",
    "Patient's last name: | James Smith | James\n",
    "Patient's sex: | Male | Male\n",
    "Patient's Date of Birth: | January 15, 1985 | January 15, 1985\n",
    "Reference: | Jane Doe, Patient: Doe.| N/A\n",
    "What is the Reference: | A reference number: A readable, non-public number. | N/A\n",
    "What is the Patient's Address: | (02) 68 Elm Street, Springfield. | 42 Oak Street, Springfield.\n",
    "What is the patient's Tel(Home): | 04 9876 5432. | (02)9876 5432\n",
    "What is the patient's Tel(Bus): | (02) 5555 1234. | (02) 1234 5678\n",
    "What is the patients Mobile: | 0400 123 456 | 0400 123 456\n",
    "Is the Patient Fasting: | Yes | No\n",
    "Is the Patient Non-Fasting: | No | Yes\n",
    "Is the Patient Pregnant?: Yes, the patient is pregnant | No \n",
    "Does the petient receive Hormone Therapy: | No | No\n",
    "LNMP A, LNMP A, LNMP A.\n",
    "A.I.A.A.A.A.A.A...\n",
    "Yes.\n",
    "Yes."
   ]
  },
  {
   "cell_type": "code",
   "execution_count": null,
   "id": "e06e313d-871b-4c03-b30f-0d45e02ab98d",
   "metadata": {},
   "outputs": [],
   "source": []
  },
  {
   "cell_type": "code",
   "execution_count": null,
   "id": "f2813ac8-055a-4393-b0a7-c53bd0b2dc74",
   "metadata": {},
   "outputs": [],
   "source": []
  }
 ],
 "metadata": {
  "kernelspec": {
   "display_name": "Python 3 (ipykernel)",
   "language": "python",
   "name": "python3"
  },
  "language_info": {
   "codemirror_mode": {
    "name": "ipython",
    "version": 3
   },
   "file_extension": ".py",
   "mimetype": "text/x-python",
   "name": "python",
   "nbconvert_exporter": "python",
   "pygments_lexer": "ipython3",
   "version": "3.12.4"
  }
 },
 "nbformat": 4,
 "nbformat_minor": 5
}
